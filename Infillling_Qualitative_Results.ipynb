{
  "cells": [
    {
      "cell_type": "markdown",
      "metadata": {
        "id": "view-in-github",
        "colab_type": "text"
      },
      "source": [
        "<a href=\"https://colab.research.google.com/github/Silent-Zebra/twisted-smc-lm/blob/master/Infillling_Qualitative_Results.ipynb\" target=\"_parent\"><img src=\"https://colab.research.google.com/assets/colab-badge.svg\" alt=\"Open In Colab\"/></a>"
      ]
    },
    {
      "cell_type": "code",
      "execution_count": null,
      "metadata": {
        "colab": {
          "base_uri": "https://localhost:8080/"
        },
        "id": "Xng7ZppIdQTw",
        "outputId": "6cdd44eb-6387-406b-ec6b-c74a227bad2d"
      },
      "outputs": [
        {
          "output_type": "stream",
          "name": "stdout",
          "text": [
            "Requirement already satisfied: transformers in /usr/local/lib/python3.10/dist-packages (4.38.2)\n",
            "Requirement already satisfied: filelock in /usr/local/lib/python3.10/dist-packages (from transformers) (3.13.4)\n",
            "Requirement already satisfied: huggingface-hub<1.0,>=0.19.3 in /usr/local/lib/python3.10/dist-packages (from transformers) (0.20.3)\n",
            "Requirement already satisfied: numpy>=1.17 in /usr/local/lib/python3.10/dist-packages (from transformers) (1.25.2)\n",
            "Requirement already satisfied: packaging>=20.0 in /usr/local/lib/python3.10/dist-packages (from transformers) (24.0)\n",
            "Requirement already satisfied: pyyaml>=5.1 in /usr/local/lib/python3.10/dist-packages (from transformers) (6.0.1)\n",
            "Requirement already satisfied: regex!=2019.12.17 in /usr/local/lib/python3.10/dist-packages (from transformers) (2023.12.25)\n",
            "Requirement already satisfied: requests in /usr/local/lib/python3.10/dist-packages (from transformers) (2.31.0)\n",
            "Requirement already satisfied: tokenizers<0.19,>=0.14 in /usr/local/lib/python3.10/dist-packages (from transformers) (0.15.2)\n",
            "Requirement already satisfied: safetensors>=0.4.1 in /usr/local/lib/python3.10/dist-packages (from transformers) (0.4.2)\n",
            "Requirement already satisfied: tqdm>=4.27 in /usr/local/lib/python3.10/dist-packages (from transformers) (4.66.2)\n",
            "Requirement already satisfied: fsspec>=2023.5.0 in /usr/local/lib/python3.10/dist-packages (from huggingface-hub<1.0,>=0.19.3->transformers) (2023.6.0)\n",
            "Requirement already satisfied: typing-extensions>=3.7.4.3 in /usr/local/lib/python3.10/dist-packages (from huggingface-hub<1.0,>=0.19.3->transformers) (4.11.0)\n",
            "Requirement already satisfied: charset-normalizer<4,>=2 in /usr/local/lib/python3.10/dist-packages (from requests->transformers) (3.3.2)\n",
            "Requirement already satisfied: idna<4,>=2.5 in /usr/local/lib/python3.10/dist-packages (from requests->transformers) (3.6)\n",
            "Requirement already satisfied: urllib3<3,>=1.21.1 in /usr/local/lib/python3.10/dist-packages (from requests->transformers) (2.0.7)\n",
            "Requirement already satisfied: certifi>=2017.4.17 in /usr/local/lib/python3.10/dist-packages (from requests->transformers) (2024.2.2)\n"
          ]
        }
      ],
      "source": [
        "!pip install transformers"
      ]
    },
    {
      "cell_type": "code",
      "execution_count": null,
      "metadata": {
        "id": "BmB37H2edLsQ",
        "colab": {
          "base_uri": "https://localhost:8080/"
        },
        "outputId": "92083c08-7388-41bb-a664-3bd3c9462a52"
      },
      "outputs": [
        {
          "output_type": "stream",
          "name": "stdout",
          "text": [
            "Drive already mounted at /gdrive; to attempt to forcibly remount, call drive.mount(\"/gdrive\", force_remount=True).\n"
          ]
        }
      ],
      "source": [
        "from do_training_and_log_Z_bounds import *\n",
        "import jax\n",
        "from flax.training import checkpoints\n",
        "from transformers import AutoTokenizer, FlaxAutoModelForSequenceClassification\n",
        "from google.colab import drive\n",
        "drive.mount('/gdrive')"
      ]
    },
    {
      "cell_type": "code",
      "execution_count": null,
      "metadata": {
        "colab": {
          "base_uri": "https://localhost:8080/"
        },
        "id": "1sT4VPFihkLt",
        "outputId": "4fd0cc5a-1734-46fb-934a-f306a364fb2a"
      },
      "outputs": [
        {
          "output_type": "stream",
          "name": "stderr",
          "text": [
            "/usr/local/lib/python3.10/dist-packages/huggingface_hub/utils/_token.py:88: UserWarning: \n",
            "The secret `HF_TOKEN` does not exist in your Colab secrets.\n",
            "To authenticate with the Hugging Face Hub, create a token in your settings tab (https://huggingface.co/settings/tokens), set it as secret in your Google Colab and restart your session.\n",
            "You will be able to reuse this secret in all of your notebooks.\n",
            "Please note that authentication is recommended but still optional to access public models or datasets.\n",
            "  warnings.warn(\n"
          ]
        },
        {
          "output_type": "stream",
          "name": "stdout",
          "text": [
            "Using NN for huggingface model twist head\n"
          ]
        },
        {
          "output_type": "stream",
          "name": "stderr",
          "text": [
            "Some weights of the model checkpoint at roneneldan/TinyStories-33M were not used when initializing FlaxGPTNeoForCausalLM: {('transformer', 'h', '2', 'attn', 'attention', 'bias'), ('transformer', 'h', '0', 'attn', 'attention', 'bias'), ('transformer', 'h', '1', 'attn', 'attention', 'masked_bias'), ('transformer', 'h', '2', 'attn', 'attention', 'masked_bias'), ('transformer', 'h', '3', 'attn', 'attention', 'masked_bias'), ('transformer', 'h', '0', 'attn', 'attention', 'masked_bias'), ('transformer', 'h', '1', 'attn', 'attention', 'bias'), ('transformer', 'h', '3', 'attn', 'attention', 'bias')}\n",
            "- This IS expected if you are initializing FlaxGPTNeoForCausalLM from the checkpoint of a model trained on another task or with another architecture (e.g. initializing a BertForSequenceClassification model from a BertForPreTraining model).\n",
            "- This IS NOT expected if you are initializing FlaxGPTNeoForCausalLM from the checkpoint of a model that you expect to be exactly identical (initializing a BertForSequenceClassification model from a BertForSequenceClassification model).\n",
            "Some weights of the model checkpoint at roneneldan/TinyStories-33M were not used when initializing FlaxGPTNeoModel: {('h', '0', 'attn', 'attention', 'bias'), ('h', '1', 'attn', 'attention', 'bias'), ('h', '0', 'attn', 'attention', 'masked_bias'), ('h', '3', 'attn', 'attention', 'masked_bias'), ('h', '2', 'attn', 'attention', 'masked_bias'), ('h', '3', 'attn', 'attention', 'bias'), ('h', '2', 'attn', 'attention', 'bias'), ('h', '1', 'attn', 'attention', 'masked_bias')}\n",
            "- This IS expected if you are initializing FlaxGPTNeoModel from the checkpoint of a model trained on another task or with another architecture (e.g. initializing a BertForSequenceClassification model from a BertForPreTraining model).\n",
            "- This IS NOT expected if you are initializing FlaxGPTNeoModel from the checkpoint of a model that you expect to be exactly identical (initializing a BertForSequenceClassification model from a BertForSequenceClassification model).\n"
          ]
        },
        {
          "output_type": "stream",
          "name": "stdout",
          "text": [
            "Starting building final twists and getting posterior samples\n",
            "TIME: 1713411272.3146224\n",
            "NUM samples\n",
            "0\n",
            "[]\n",
            "(0, 23)\n",
            "[]\n",
            "[]\n",
            "[]\n",
            "Finished building final twists and getting posterior samples\n",
            "TIME: 1713411273.2956648\n"
          ]
        }
      ],
      "source": [
        "output_len = 15\n",
        "n_vocab = 50257\n",
        "num_last_tokens_to_condition_on = 10\n",
        "\n",
        "experiment_cfg, rng_key, huggingface_model, params_p, \\\n",
        "params_twist, optimizer_twist, optim_twist_state, \\\n",
        "jnp_prompts, log_true_final_twists, \\\n",
        "true_posterior_samples_by_prompt_and_by_token, records_list_by_prompt_then_twist, \\\n",
        "indices_of_continuation, tokenizer, params_proposal = setup_cfg(\n",
        "    n_vocab=n_vocab, twist_learn_type=\"ebm_one_sample\", rm_type=\"p_last_tokens\", seed=1,\n",
        "    hface_model_type=\"TinyStories\", lr_twist=0.0001, beta1=0.9, beta2=0.999, weight_decay=0.0, n_layers_twist=3,\n",
        "    output_len=output_len, n_samples_at_a_time=0,\n",
        "    beta_temp=1, threshold=0, pos_threshold=False, load_ckpt=False, load_dirs=(\".\", \".\"),\n",
        "    load_prefix=\"\", hface_nn_twist=True, separate_hface_twist_model=True,\n",
        "    num_last_tokens_to_condition_on=num_last_tokens_to_condition_on, only_collect_true_posterior_samples=False,\n",
        "    num_samples_if_only_collect_true_posterior_samples=0, load_posterior_samples=False,\n",
        "    load_prefix_posterior_samples=None, sentiment_class=5, use_lora=False, softmax_twist=False\n",
        ")\n",
        "\n",
        "prompt = jnp_prompts[0]\n",
        "log_true_final_twist = log_true_final_twists[0]\n",
        "n_buffer_samples_at_a_time = 0\n",
        "proposal_is_p = False\n",
        "tempered_twist=False\n",
        "beta_prop=None\n",
        "n_twist = 64"
      ]
    },
    {
      "cell_type": "code",
      "execution_count": null,
      "metadata": {
        "id": "S1aO4XzMr_rx"
      },
      "outputs": [],
      "source": [
        "def print_unique_text(smc_samples, tokenizer):\n",
        "    text_outputs = tokenizer.batch_decode(smc_samples, skip_special_tokens=True)\n",
        "    for x in set(text_outputs):\n",
        "        print(x)\n",
        "\n",
        "def print_all_text(smc_samples, tokenizer):\n",
        "    text_outputs = tokenizer.batch_decode(smc_samples, skip_special_tokens=True)\n",
        "    for x in text_outputs:\n",
        "        print(x)\n",
        "\n",
        "def print_all_text_in_order_of_weights(smc_samples, tokenizer, log_w_t):\n",
        "    print(\"All Proposal Samples with SMC weights (decreasing order):\")\n",
        "    normalized_log_w_t = jax.nn.softmax(log_w_t)\n",
        "    text_outputs = tokenizer.batch_decode(smc_samples, skip_special_tokens=True)\n",
        "    weights_and_outputs = list(reversed(sorted(zip(normalized_log_w_t, text_outputs))))\n",
        "\n",
        "    for i in range(len(weights_and_outputs)):\n",
        "        print(f\"Weight: {weights_and_outputs[i][0]:.5f} | Text: {weights_and_outputs[i][1]}\")\n",
        "\n",
        "\n",
        "def print_highest_prob_smc_samples(log_w_t, smc_samples):\n",
        "    text_outputs = tokenizer.batch_decode(smc_samples[log_w_t == max(log_w_t)], skip_special_tokens=True)\n",
        "    print(\"Highest weight SMC Sample:\")\n",
        "    for x in set(text_outputs):\n",
        "        print(x)\n",
        "    print(f\"Weight of highest weight SMC Sample:{max(log_w_t):}\")\n",
        "\n",
        "\n",
        "def do_infilling(rng_key, params_twist, user_specified_condition_text, resample=False):\n",
        "    condition_text_and_blanks = [user_specified_condition_text, \"          \"]\n",
        "    print(f\"Prompt: Once upon a time, there was a\")\n",
        "    input_ids_and_mask = tokenizer(condition_text_and_blanks, return_tensors=\"np\", padding=True)  # What happens if the prompts are different lengths? TODO\n",
        "    jnp_condition_tokens = input_ids_and_mask['input_ids'][0][:num_last_tokens_to_condition_on]\n",
        "    cut_condition_tokens = tokenizer.batch_decode(jnp_condition_tokens, skip_special_tokens=True)\n",
        "    print(f\"Conditioning tokens (truncated or blank-filled to be 10 tokens): {cut_condition_tokens}\")\n",
        "\n",
        "    condition_twist_on_tokens_broadcasted = jnp.full(\n",
        "                            (n_twist, jnp_condition_tokens.shape[-1]), jnp_condition_tokens\n",
        "                        )\n",
        "\n",
        "    (log_w_t, log_z_hat_t, _), smc_samples = smc_procedure(\n",
        "                            rng_key, prompt, params_p, params_twist,\n",
        "                            log_true_final_twist, output_len, n_twist,\n",
        "                            smc_procedure_type=\"jit\",\n",
        "                            condition_twist_on_tokens=condition_twist_on_tokens_broadcasted,\n",
        "                            resample=resample,\n",
        "                            proposal_is_p=proposal_is_p,\n",
        "                            huggingface_model=huggingface_model,\n",
        "                        )\n",
        "\n",
        "    print_all_text_in_order_of_weights(smc_samples, tokenizer, log_w_t)\n",
        "\n",
        "\n",
        "def load_ckpt_get_params_twist(ckpt_dir):\n",
        "    x = checkpoints.restore_checkpoint(ckpt_dir=ckpt_dir, target=None)\n",
        "    loaded_params_twist = [x['0']['0'], x['0']['1']]\n",
        "\n",
        "    if 'linear_layers' in loaded_params_twist[1]:\n",
        "        loaded_params_twist[1]['linear_layers'] = list(loaded_params_twist[1]['linear_layers'].values())\n",
        "    params_twist = loaded_params_twist\n",
        "    return params_twist"
      ]
    },
    {
      "cell_type": "code",
      "source": [
        "params_twist = load_ckpt_get_params_twist(\"/gdrive/MyDrive/Infilling Demo/checkpoint_2024-02-01_08-12_seed1_one_total_kl_epoch12\")"
      ],
      "metadata": {
        "id": "Q6hRYnWAIVih"
      },
      "execution_count": null,
      "outputs": []
    },
    {
      "cell_type": "code",
      "source": [
        "do_infilling(jax.random.PRNGKey(0), params_twist, \" others and make them feel safe. Mia liked to\") # DPG Results"
      ],
      "metadata": {
        "colab": {
          "base_uri": "https://localhost:8080/"
        },
        "id": "S6MMBDnNIUt8",
        "outputId": "fd7b5c28-5a48-4471-8327-d1069f9e002f"
      },
      "execution_count": null,
      "outputs": [
        {
          "output_type": "stream",
          "name": "stdout",
          "text": [
            "Prompt: Once upon a time, there was a\n",
            "Conditioning tokens (truncated or blank-filled to be 10 tokens): [' others', ' and', ' make', ' them', ' feel', ' safe', '.', ' Mia', ' liked', ' to']\n",
            "(64, 23, 1536)\n",
            "(64, 23, 1536)\n",
            "All Proposal Samples with SMC weights (decreasing order):\n",
            "Weight: 0.59397 | Text: Once upon a time, there was a little girl named Mia. She had a big heart. Mia loved to help\n",
            "Weight: 0.28629 | Text: Once upon a time, there was a girl named Mia. Mia was a very happy girl because she liked to help\n",
            "Weight: 0.10429 | Text: Once upon a time, there was a little girl named Mia. She had a big job. She was to help\n",
            "Weight: 0.01391 | Text: Once upon a time, there was a brave girl named Lily. She had a special job - she liked to help\n",
            "Weight: 0.00073 | Text: Once upon a time, there was a girl named Mia. Mia was a kind girl who liked to lend things to\n",
            "Weight: 0.00048 | Text: Once upon a time, there was a little girl named Mia. She was a generous girl who liked to share with\n",
            "Weight: 0.00018 | Text: Once upon a time, there was a girl named Mia. She was a very tough girl, and she loved helping\n",
            "Weight: 0.00009 | Text: Once upon a time, there was a little girl named Mia. Mia loved her collection, and she would often keep\n",
            "Weight: 0.00001 | Text: Once upon a time, there was a little girl named Mia. Mia had a great idea. She wanted to bury\n",
            "Weight: 0.00001 | Text: Once upon a time, there was a little girl named Mia. She was a happy girl who loved to play with\n",
            "Weight: 0.00001 | Text: Once upon a time, there was a little girl named Mia. Mia had a cane. She liked to talk to\n",
            "Weight: 0.00000 | Text: Once upon a time, there was a girl named Mia. Mia was a very popular girl. She loved to show\n",
            "Weight: 0.00000 | Text: Once upon a time, there was a girl named Mia. She was a very organized girl. She liked to tidy\n",
            "Weight: 0.00000 | Text: Once upon a time, there was a little girl called Mia who was very patient. She loved to read books with\n",
            "Weight: 0.00000 | Text: Once upon a time, there was a little girl named Mia. Mia really liked to draw. She would draw all\n",
            "Weight: 0.00000 | Text: Once upon a time, there was a kind and caring girl named Mia. She liked to help people and animals on\n",
            "Weight: 0.00000 | Text: Once upon a time, there was a mysterious idea. A little girl named Mia wanted to make the idea come to\n",
            "Weight: 0.00000 | Text: Once upon a time, there was a little girl named Mia. Mia was a troubled girl who loved to pray for\n",
            "Weight: 0.00000 | Text: Once upon a time, there was a girl named Amy. She was kind and gentle. She liked to help other\n",
            "Weight: 0.00000 | Text: Once upon a time, there was a little girl named Mia. She loved to hold her favorite basket with all her\n",
            "Weight: 0.00000 | Text: Once upon a time, there was a kind lady named Momo. Momo loved to help people. She helped\n",
            "Weight: 0.00000 | Text: Once upon a time, there was a little girl named Mia. She was eager to try something very exciting - to\n",
            "Weight: 0.00000 | Text: Once upon a time, there was a little girl called Mia. She was a very tidy little girl with lots of\n",
            "Weight: 0.00000 | Text: Once upon a time, there was a little girl named Mia. She was very enthusiastic and always wanted to help her\n",
            "Weight: 0.00000 | Text: Once upon a time, there was a little girl named Mia. Mia was very spoiled. She loved to ask for\n",
            "Weight: 0.00000 | Text: Once upon a time, there was a girl named Mia. Mia always liked to have fun. She liked to joke\n",
            "Weight: 0.00000 | Text: Once upon a time, there was a little girl named Mia who liked to talk. She talked all day long with\n",
            "Weight: 0.00000 | Text: Once upon a time, there was a little girl named Mia. She had a big uncle who loved to create fun\n",
            "Weight: 0.00000 | Text: Once upon a time, there was a little girl called Mia. She loved playing with her toys and often played with\n",
            "Weight: 0.00000 | Text: Once upon a time, there was a little girl named Mia. She was very intelligent. She loved to sew with\n",
            "Weight: 0.00000 | Text: Once upon a time, there was a girl called Mia. Mia was very intelligent and she loved to print pictures on\n",
            "Weight: 0.00000 | Text: Once upon a time, there was a kind girl named Mia. She had a big heart and liked to help everyone\n",
            "Weight: 0.00000 | Text: Once upon a time, there was a kind girl named Mia. Mia had a kind heart and loved to share her\n",
            "Weight: 0.00000 | Text: Once upon a time, there was a little girl named Mia. Mia was a very reliable girl. She always did\n",
            "Weight: 0.00000 | Text: Once upon a time, there was a little girl named Mia. Mia had a camera. She liked to take pictures\n",
            "Weight: 0.00000 | Text: Once upon a time, there was a little girl named Mia. She was very organized. She liked to fix things\n",
            "Weight: 0.00000 | Text: Once upon a time, there was a little girl named Mia. Mia was a fair girl with a big smile,\n",
            "Weight: 0.00000 | Text: Once upon a time, there was a little girl named Mia. Mia loved to talk on the telephone and tell her\n",
            "Weight: 0.00000 | Text: Once upon a time, there was a cheerful little girl named Mia. She loved to spend her days playing with all\n",
            "Weight: 0.00000 | Text: Once upon a time, there was a girl named Mia who had a very cheap hat. She loved to show off\n",
            "Weight: 0.00000 | Text: Once upon a time, there was a girl named Mia. She always wanted to be the best bike rider ever,\n",
            "Weight: 0.00000 | Text: Once upon a time, there was a very wealthy girl named Mia. She was so kind to everyone, big and\n",
            "Weight: 0.00000 | Text: Once upon a time, there was a kind girl named Mia. Mia loved her mom and dad very much, and\n",
            "Weight: 0.00000 | Text: Once upon a time, there was a girl named Mia. She had a thin face. Mia loved to bake with\n",
            "Weight: 0.00000 | Text: Once upon a time, there was a little girl named Mia. Mia was very polite and always said please and thank\n",
            "Weight: 0.00000 | Text: Once upon a time, there was a strong and powerful girl called Mia. She was determined to succeed, no matter\n",
            "Weight: 0.00000 | Text: Once upon a time, there was a pale little girl named Mia. Mia loved to measure how fast things could move\n",
            "Weight: 0.00000 | Text: Once upon a time, there was a little girl named Mia. She was very lively and liked to play all day\n",
            "Weight: 0.00000 | Text: Once upon a time, there was a little girl named Mia. She had a beautiful hat that was just perfect for\n",
            "Weight: 0.00000 | Text: Once upon a time, there was a little girl named Mia. She was bossy and liked to tell the other\n",
            "Weight: 0.00000 | Text: Once upon a time, there was a pretty girl called Mia. She was only three years old, and loved playing\n",
            "Weight: 0.00000 | Text: Once upon a time, there was a jolly girl named Mia. She loved to pack her lunch and play with\n",
            "Weight: 0.00000 | Text: Once upon a time, there was a little girl named Mia. She was very bossy. Mia played with her\n",
            "Weight: 0.00000 | Text: Once upon a time, there was a helpful girl named Mia. Mia had a friend named Sam. They played with\n",
            "Weight: 0.00000 | Text: Once upon a time, there was a small girl named Lily. She had a small doll that she loved to own\n",
            "Weight: 0.00000 | Text: Once upon a time, there was a girl named Mia. Mia's hair was very long and her eyes were full\n",
            "Weight: 0.00000 | Text: Once upon a time, there was a kind and thoughtful lady named Momo. Momo liked to share her bread\n",
            "Weight: 0.00000 | Text: Once upon a time, there was a kind girl named Mia. Mia liked to help others. She had many friends\n",
            "Weight: 0.00000 | Text: Once upon a time, there was a little girl named Mia. Mia loved to decorate her room with her cr\n",
            "Weight: 0.00000 | Text: Once upon a time, there was a caterpillar named Mia. Mia was very popular with all the animals in the\n",
            "Weight: 0.00000 | Text: Once upon a time, there was a little girl named Mia. She had many toys, but they were all over\n",
            "Weight: 0.00000 | Text: Once upon a time, there was a pretty office. In this pretty office, there was a kind lady named Mom\n",
            "Weight: 0.00000 | Text: Once upon a time, there was a little girl named Mia. She had a big birthday party. Mia's mom\n",
            "Weight: 0.00000 | Text: Once upon a time, there was a girl named Lily. She had long hair that was wet from the rain,\n"
          ]
        }
      ]
    },
    {
      "cell_type": "code",
      "execution_count": null,
      "metadata": {
        "id": "5dDfefRO5bkB"
      },
      "outputs": [],
      "source": [
        "# Can run out of memory on colab. If so, just skip the previous 2 cells before running this\n",
        "params_twist = load_ckpt_get_params_twist(\"/gdrive/MyDrive/Infilling Demo/checkpoint_2024-02-01_08-21_seed1_sixo_epoch12\")"
      ]
    },
    {
      "cell_type": "code",
      "execution_count": null,
      "metadata": {
        "colab": {
          "base_uri": "https://localhost:8080/"
        },
        "id": "nqX1nwWjbrRj",
        "outputId": "4817735a-1a54-4f2c-801d-5cad9f50d8d3"
      },
      "outputs": [
        {
          "output_type": "stream",
          "name": "stdout",
          "text": [
            "Prompt: Once upon a time, there was a\n",
            "Conditioning tokens (truncated or blank-filled to be 10 tokens): [' others', ' and', ' make', ' them', ' feel', ' safe', '.', ' Mia', ' liked', ' to']\n",
            "(64, 23, 1536)\n",
            "(64, 23, 1536)\n",
            "All Proposal Samples with SMC weights (decreasing order):\n",
            "Weight: 0.69534 | Text: Once upon a time, there was a girl named Mia. Mia was very kind and compassionate. She always helped her\n",
            "Weight: 0.09194 | Text: Once upon a time, there was a little girl named Mia. She loved playing with dough. She used to make\n",
            "Weight: 0.05874 | Text: Once upon a time, there was a little girl named Mia. Mia loved her daddy very much. Her daddy was\n",
            "Weight: 0.05448 | Text: Once upon a time, there was a little girl named Sue. Sue was a very reliable girl. She always helped\n",
            "Weight: 0.03489 | Text: Once upon a time, there was a little girl named Sue. Sue had a big dream. She wanted to bring\n",
            "Weight: 0.02419 | Text: Once upon a time, there was a jolly girl named Mia. She loved to play with her friends and make\n",
            "Weight: 0.01552 | Text: Once upon a time, there was a helpful little girl named Mia. She was always ready to help her mom and\n",
            "Weight: 0.01328 | Text: Once upon a time, there was a little girl called Amy. She had a very thoughtful mum, who loved to\n",
            "Weight: 0.00936 | Text: Once upon a time, there was a little girl named Mia. She was very obedient and always tried her best to\n",
            "Weight: 0.00145 | Text: Once upon a time, there was a little girl named Mia. She was very excited because she was going to pick\n",
            "Weight: 0.00033 | Text: Once upon a time, there was a little girl named Mia. She was very polite and always said 'please'\n",
            "Weight: 0.00014 | Text: Once upon a time, there was a little girl named Mia. Mia had a cane that she liked to use to\n",
            "Weight: 0.00013 | Text: Once upon a time, there was a little girl named Sally. Sally was very spoiled and she loved to ask for\n",
            "Weight: 0.00010 | Text: Once upon a time, there was a big, healthy house. One day, the family who lived there decided to\n",
            "Weight: 0.00004 | Text: Once upon a time, there was a girl named Sue. She was very anxious. She wanted to find a special\n",
            "Weight: 0.00003 | Text: Once upon a time, there was a little girl named Sue. Sue had thick, brown hair. She loved to\n",
            "Weight: 0.00002 | Text: Once upon a time, there was a kind and compassionate girl named Mia. She lived near a small fire station and\n",
            "Weight: 0.00001 | Text: Once upon a time, there was a girl named Sue. Sue was a good girl. She knew to listen well\n",
            "Weight: 0.00001 | Text: Once upon a time, there was a girl called Amy. Amy was very intelligent and she loved to print pictures on\n",
            "Weight: 0.00001 | Text: Once upon a time, there was a little girl called Sally. Sally loved playing with her toys and often liked to\n",
            "Weight: 0.00000 | Text: Once upon a time, there was a little girl named Mia. Mia loved to cook. She would put eggs on\n",
            "Weight: 0.00000 | Text: Once upon a time, there was a small girl named Sue. Sue liked to bake. She liked to bake with\n",
            "Weight: 0.00000 | Text: Once upon a time, there was a kind and generous lady named Sally. She loved taking care of animals and especially\n",
            "Weight: 0.00000 | Text: Once upon a time, there was a silly cat named Olive. Olive loved to play with her toy mouse and make\n",
            "Weight: 0.00000 | Text: Once upon a time, there was a little girl named Mia. She loved to dance. Mia would dance all day\n",
            "Weight: 0.00000 | Text: Once upon a time, there was a girl named Mia. Mia's task was to pick apples from the tree in\n",
            "Weight: 0.00000 | Text: Once upon a time, there was a little girl named Mia. She was independent and liked to do things on her\n",
            "Weight: 0.00000 | Text: Once upon a time, there was a little girl named Mia. Mia loved to dance. She would dance in her\n",
            "Weight: 0.00000 | Text: Once upon a time, there was a girl named Mia. She liked to go to the temple to pray. Mia\n",
            "Weight: 0.00000 | Text: Once upon a time, there was a pale little girl named Amy. Amy loved to measure how fast things spun around\n",
            "Weight: 0.00000 | Text: Once upon a time, there was a little girl named Mia who liked to talk. She talked all the time,\n",
            "Weight: 0.00000 | Text: Once upon a time, there was a little girl named Mia. She was very lively and liked to play all day\n",
            "Weight: 0.00000 | Text: Once upon a time, there was a little girl named Mia. Mia liked to pick flowers with her mom. They\n",
            "Weight: 0.00000 | Text: Once upon a time, there was a little girl named Sue. Sue was very creative. She loved to draw and\n",
            "Weight: 0.00000 | Text: Once upon a time, there was a little girl named Sally. Sally liked to do things, like play with her\n",
            "Weight: 0.00000 | Text: Once upon a time, there was a girl named Sue. Sue loved animals and wanted to teach them about life.\n",
            "Weight: 0.00000 | Text: Once upon a time, there was a brave cat named Lily. She had a big sister named Nap. Nap was\n",
            "Weight: 0.00000 | Text: Once upon a time, there was a little girl named Sally. Sally was very gifted, so everyone said nice things\n",
            "Weight: 0.00000 | Text: Once upon a time, there was a little girl named Mia. Mia really liked to draw. She had a big\n",
            "Weight: 0.00000 | Text: Once upon a time, there was a girl named Sue. Sue was white. She loved to smile. Her smile\n",
            "Weight: 0.00000 | Text: Once upon a time, there was a little girl named Sally. Sally was just three years old and liked to wave\n",
            "Weight: 0.00000 | Text: Once upon a time, there was a little girl named Mia. Mia loved to paint. She painted on walls,\n",
            "Weight: 0.00000 | Text: Once upon a time, there was a girl named Sally. Sally lived in a small house in the countryside and loved\n",
            "Weight: 0.00000 | Text: Once upon a time, there was a little girl named Mia. She loved to dance and smile all the time.\n",
            "Weight: 0.00000 | Text: Once upon a time, there was a girl named Lucy. She was three years old and She had a lovely pet\n",
            "Weight: 0.00000 | Text: Once upon a time, there was a little girl named Mia. She had a big, black dictionary that she loved\n",
            "Weight: 0.00000 | Text: Once upon a time, there was a little girl named Sue. Sue had a book that was very special to her\n",
            "Weight: 0.00000 | Text: Once upon a time, there was a mysterious cat named Tom. Tom lived in a big house with a little girl\n",
            "Weight: 0.00000 | Text: Once upon a time, there was a little girl named Sue. Sue loved to be creative. Her favorite thing to\n",
            "Weight: 0.00000 | Text: Once upon a time, there was a little girl named Lucy. Lucy was only three-years-old, and\n",
            "Weight: 0.00000 | Text: Once upon a time, there was a cheerful little girl named Sally. Sally loved to gather things. Her favorite thing\n",
            "Weight: 0.00000 | Text: Once upon a time, there was a furry little cat named Kitty. Kitty loved to play with her owner, a\n",
            "Weight: 0.00000 | Text: Once upon a time, there was a little girl named Mia. Mia loved music and often played it on her fragile\n",
            "Weight: 0.00000 | Text: Once upon a time, there was a pretty bird named Sally. Sally had a friend named Timmy, who was\n",
            "Weight: 0.00000 | Text: Once upon a time, there was a little girl named Sally. Sally was three years old, very naughty and often\n",
            "Weight: 0.00000 | Text: Once upon a time, there was a little girl named Emma. She had a white puppy named Fluffy and a\n",
            "Weight: 0.00000 | Text: Once upon a time, there was a little girl named Mia. Mia was a fair girl with long hair, a\n",
            "Weight: 0.00000 | Text: Once upon a time, there was a very wealthy girl named Sally. Sally was so kind that everyone who met her\n",
            "Weight: 0.00000 | Text: Once upon a time, there was a very adventurous girl called Amy. Amy was so adventurous and she spent all her\n",
            "Weight: 0.00000 | Text: Once upon a time, there was a girl named Sally. She was only three years old, but she was a\n",
            "Weight: 0.00000 | Text: Once upon a time, there was a little cat named Kitty. She was very intelligent. She lived in a small\n",
            "Weight: 0.00000 | Text: Once upon a time, there was a girl named Sue. Sue always liked to have ice-cream after dinner too\n",
            "Weight: 0.00000 | Text: Once upon a time, there was a big puddle. It was smooth and shiny. A little girl named Lily\n",
            "Weight: 0.00000 | Text: Once upon a time, there was a little bird named Lucky. Lucky was very poor and lived near a big tree\n"
          ]
        }
      ],
      "source": [
        "do_infilling(jax.random.PRNGKey(0), params_twist, \" others and make them feel safe. Mia liked to\") # SIXO Results"
      ]
    },
    {
      "cell_type": "code",
      "source": [
        "# Can run out of memory on colab. If so, just skip the previous 4 cells before running this\n",
        "params_twist = load_ckpt_get_params_twist(\"/gdrive/MyDrive/Infilling Demo/checkpoint_2024-02-01_10-49_seed1_ebm_ml_jit_vmapped_over_condition_tokens_epoch12\")"
      ],
      "metadata": {
        "id": "f7NGLvu8Ij-A"
      },
      "execution_count": null,
      "outputs": []
    },
    {
      "cell_type": "code",
      "source": [
        "do_infilling(jax.random.PRNGKey(0), params_twist, \" others and make them feel safe. Mia liked to\") # CTL Results"
      ],
      "metadata": {
        "colab": {
          "base_uri": "https://localhost:8080/"
        },
        "id": "rAom0ehtIidk",
        "outputId": "7efe649a-fb54-412f-a3ba-1ad2d87709ff"
      },
      "execution_count": null,
      "outputs": [
        {
          "output_type": "stream",
          "name": "stdout",
          "text": [
            "Prompt: Once upon a time, there was a\n",
            "Conditioning tokens (truncated or blank-filled to be 10 tokens): [' others', ' and', ' make', ' them', ' feel', ' safe', '.', ' Mia', ' liked', ' to']\n",
            "(64, 23, 1536)\n",
            "(64, 23, 1536)\n",
            "All Proposal Samples with SMC weights (decreasing order):\n",
            "Weight: 0.93947 | Text: Once upon a time, there was a girl named Mia. She had a thin, pink dress. Mia liked to\n",
            "Weight: 0.05986 | Text: Once upon a time, there was a little girl named Amy. She was a happy girl who wanted to go to\n",
            "Weight: 0.00043 | Text: Once upon a time, there was a girl named Sarah. She was a very happy girl and she loved to share\n",
            "Weight: 0.00008 | Text: Once upon a time, there was a little girl named Sally. Sally was very spoiled and she loved to ask questions\n",
            "Weight: 0.00004 | Text: Once upon a time, there was a little girl named Sarah. Sarah was 3 years old and loved to play with\n",
            "Weight: 0.00003 | Text: Once upon a time, there was a little girl called Sally. She loved playing with her toys and often liked to\n",
            "Weight: 0.00003 | Text: Once upon a time, there was a young dancer named Mama. Mama had a special task to do. Mama needed\n",
            "Weight: 0.00002 | Text: Once upon a time, there was a little girl who loved to play near the lake. She would put her toes\n",
            "Weight: 0.00001 | Text: Once upon a time, there was a jolly girl named Jane. Jane was always getting into trouble and she loved\n",
            "Weight: 0.00001 | Text: Once upon a time, there was a mom and a small boy. Every day, the dad would mail something special\n",
            "Weight: 0.00001 | Text: Once upon a time, there was a girl named Anna. She was a very brave girl who wanted to be successful\n",
            "Weight: 0.00000 | Text: Once upon a time, there was a kind girl named Mary. Every day when Mary woke up, she wanted to\n",
            "Weight: 0.00000 | Text: Once upon a time, there was a little girl who wanted to go to the shop. She was very eager to\n",
            "Weight: 0.00000 | Text: Once upon a time, there was a big puddle on the ground by a shower of ducks. The ducks were\n",
            "Weight: 0.00000 | Text: Once upon a time, there was a little girl named Sarah who loved to dream. Every night, she would dream\n",
            "Weight: 0.00000 | Text: Once upon a time, there was a little girl named Mandy. Mandy was very curious about the world around\n",
            "Weight: 0.00000 | Text: Once upon a time, there was a girl called Lucy who had a very cheap hat. Every day, she put\n",
            "Weight: 0.00000 | Text: Once upon a time, there was a girl called Rose. Rose was a good girl who loved to print. She\n",
            "Weight: 0.00000 | Text: Once upon a time, there was a girl. She was very busy all the time. She was always grabbing things\n",
            "Weight: 0.00000 | Text: Once upon a time, there was a little yellow panda named Kiki. Kiki was very shy and would\n",
            "Weight: 0.00000 | Text: Once upon a time, there was a caterpillar named Curly. Curly was small but brave and determined -\n",
            "Weight: 0.00000 | Text: Once upon a time, there was a little girl named Amy. She was a curious girl who liked to explore new\n",
            "Weight: 0.00000 | Text: Once upon a time, there was a little girl called Lily. She was so adorable! Lily had a big yellow\n",
            "Weight: 0.00000 | Text: Once upon a time, there was a girl named Sally. She was three years old and she loved to explore.\n",
            "Weight: 0.00000 | Text: Once upon a time, there was a delicate girl who had a special shelf in her bedroom. Every night, she\n",
            "Weight: 0.00000 | Text: Once upon a time, there was a beautiful girl called Princess Lily. She liked her room very much, with a\n",
            "Weight: 0.00000 | Text: Once upon a time, there was a baby named Sally. She was only 3 years old, but she was very\n",
            "Weight: 0.00000 | Text: Once upon a time, there was a little girl called Lucy. She was a very happy little girl with a big\n",
            "Weight: 0.00000 | Text: Once upon a time, there was a little girl named Lily. She was very lively and always wanted to do new\n",
            "Weight: 0.00000 | Text: Once upon a time, there was a little girl named Lisa. She had a big, black box. Inside the\n",
            "Weight: 0.00000 | Text: Once upon a time, there was a young girl named Emma. She was very excited because she was going to a\n",
            "Weight: 0.00000 | Text: Once upon a time, there was a little girl named Tina. She loved to decorate her room with her cr\n",
            "Weight: 0.00000 | Text: Once upon a time, there was a girl named Jane. Jane's hair was very long and her eyes were so\n",
            "Weight: 0.00000 | Text: Once upon a time, there was a pretty bird. This bird had soft feathers that felt nice against her body.\n",
            "Weight: 0.00000 | Text: Once upon a time, there was a kind girl named Lily. She lived on an island that was full of animals\n",
            "Weight: 0.00000 | Text: Once upon a time, there was a little girl called Lucy. She was only three-years-old. She\n",
            "Weight: 0.00000 | Text: Once upon a time, there was a queen who was very selfish. She always wanted everything for herself and never shared\n",
            "Weight: 0.00000 | Text: Once upon a time, there was a little girl named Sue. Sue was a very bright girl. She had a\n",
            "Weight: 0.00000 | Text: Once upon a time, there was a mommy and a daddy who wanted to buy a reliable dog. So they\n",
            "Weight: 0.00000 | Text: Once upon a time, there was a strong ostrich. It had two big legs and two humps on its\n",
            "Weight: 0.00000 | Text: Once upon a time, there was a little girl called Lucy. She was 3 years old and she was very excited\n",
            "Weight: 0.00000 | Text: Once upon a time, there was a big blue lake. In the lake, two little ducks were swimming around.\n",
            "Weight: 0.00000 | Text: Once upon a time, there was a girl named Jane. She was a very tough girl, and she was brave\n",
            "Weight: 0.00000 | Text: Once upon a time, there was a little girl named Sally. She was only three years old but she was really\n",
            "Weight: 0.00000 | Text: Once upon a time, there was a girl called Lucy. She was walking in the park with her mom. It\n",
            "Weight: 0.00000 | Text: Once upon a time, there was a girl who had a lemon. She liked her lemon very much, but it\n",
            "Weight: 0.00000 | Text: Once upon a time, there was a cheerful little girl who loved to play every day. One day, she wanted\n",
            "Weight: 0.00000 | Text: Once upon a time, there was a wide mine near a huge mountain that began to swell up ashaw hung on\n",
            "Weight: 0.00000 | Text: Once upon a time, there was a little girl named Lily. She had a special toy box filled with all sorts\n",
            "Weight: 0.00000 | Text: Once upon a time, there was a small girl named Lily. She had a small doll that she loved very much\n",
            "Weight: 0.00000 | Text: Once upon a time, there was a furry little bunny named Bun Bun. Bun Bun lived on Earth, where everyone\n",
            "Weight: 0.00000 | Text: Once upon a time, there was a little girl named Lily. Lily had a fair complexion and a cozy pocket where\n",
            "Weight: 0.00000 | Text: Once upon a time, there was a little girl named Lily who liked to help her mom clean up. Her mom\n",
            "Weight: 0.00000 | Text: Once upon a time, there was a mysterious ghost floating in the sky above a visit full of strange creatures. Immediately\n",
            "Weight: 0.00000 | Text: Once upon a time, there was a young girl named Jane. She had a beautiful ornament that she loved very much\n",
            "Weight: 0.00000 | Text: Once upon a time, there was a little girl named Emma. She wanted to make a cake but she didn't\n",
            "Weight: 0.00000 | Text: Once upon a time, there was a little girl named Lily. She had a favorite cushion with pink spots that she\n",
            "Weight: 0.00000 | Text: Once upon a time, there was a girl named Lucy. She always wanted to have a special treat. On a\n",
            "Weight: 0.00000 | Text: Once upon a time, there was a little girl called Emily. She was three years old and very curious.\n",
            "\n",
            "Weight: 0.00000 | Text: Once upon a time, there was a little girl named Lily. It was her birthday soon, and she was very\n",
            "Weight: 0.00000 | Text: Once upon a time, there was a little girl named Grace. She was only three years old and she was very\n",
            "Weight: 0.00000 | Text: Once upon a time, there was a little girl named Lily. She had a toy box full of toys that she\n",
            "Weight: 0.00000 | Text: Once upon a time, there was a little girl called Daisy who was very sad. She had a very bad day\n",
            "Weight: 0.00000 | Text: Once upon a time, there was a girl named Lily. She had long hair that was wet from a hot summer\n"
          ]
        }
      ]
    }
  ],
  "metadata": {
    "colab": {
      "provenance": [],
      "authorship_tag": "ABX9TyN2c1PWZWmJ71hzx6r12BkW",
      "include_colab_link": true
    },
    "kernelspec": {
      "display_name": "Python 3",
      "name": "python3"
    },
    "language_info": {
      "name": "python"
    }
  },
  "nbformat": 4,
  "nbformat_minor": 0
}