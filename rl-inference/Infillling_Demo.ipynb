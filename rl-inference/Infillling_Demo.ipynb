{
  "nbformat": 4,
  "nbformat_minor": 0,
  "metadata": {
    "colab": {
      "provenance": [],
      "authorship_tag": "ABX9TyNdeCyBvME6uRfXa+oySeHu",
      "include_colab_link": true
    },
    "kernelspec": {
      "name": "python3",
      "display_name": "Python 3"
    },
    "language_info": {
      "name": "python"
    }
  },
  "cells": [
    {
      "cell_type": "markdown",
      "metadata": {
        "id": "view-in-github",
        "colab_type": "text"
      },
      "source": [
        "<a href=\"https://colab.research.google.com/github/Silent-Zebra/rl-inference/blob/master/Infillling_Demo.ipynb\" target=\"_parent\"><img src=\"https://colab.research.google.com/assets/colab-badge.svg\" alt=\"Open In Colab\"/></a>"
      ]
    },
    {
      "cell_type": "code",
      "source": [
        "!pip install transformers"
      ],
      "metadata": {
        "colab": {
          "base_uri": "https://localhost:8080/"
        },
        "id": "Xng7ZppIdQTw",
        "outputId": "8109eb57-29eb-4998-ec4f-57a00cddbd4a"
      },
      "execution_count": 1,
      "outputs": [
        {
          "output_type": "stream",
          "name": "stdout",
          "text": [
            "Requirement already satisfied: transformers in /usr/local/lib/python3.10/dist-packages (4.35.2)\n",
            "Requirement already satisfied: filelock in /usr/local/lib/python3.10/dist-packages (from transformers) (3.13.1)\n",
            "Requirement already satisfied: huggingface-hub<1.0,>=0.16.4 in /usr/local/lib/python3.10/dist-packages (from transformers) (0.19.4)\n",
            "Requirement already satisfied: numpy>=1.17 in /usr/local/lib/python3.10/dist-packages (from transformers) (1.23.5)\n",
            "Requirement already satisfied: packaging>=20.0 in /usr/local/lib/python3.10/dist-packages (from transformers) (23.2)\n",
            "Requirement already satisfied: pyyaml>=5.1 in /usr/local/lib/python3.10/dist-packages (from transformers) (6.0.1)\n",
            "Requirement already satisfied: regex!=2019.12.17 in /usr/local/lib/python3.10/dist-packages (from transformers) (2023.6.3)\n",
            "Requirement already satisfied: requests in /usr/local/lib/python3.10/dist-packages (from transformers) (2.31.0)\n",
            "Requirement already satisfied: tokenizers<0.19,>=0.14 in /usr/local/lib/python3.10/dist-packages (from transformers) (0.15.0)\n",
            "Requirement already satisfied: safetensors>=0.3.1 in /usr/local/lib/python3.10/dist-packages (from transformers) (0.4.1)\n",
            "Requirement already satisfied: tqdm>=4.27 in /usr/local/lib/python3.10/dist-packages (from transformers) (4.66.1)\n",
            "Requirement already satisfied: fsspec>=2023.5.0 in /usr/local/lib/python3.10/dist-packages (from huggingface-hub<1.0,>=0.16.4->transformers) (2023.6.0)\n",
            "Requirement already satisfied: typing-extensions>=3.7.4.3 in /usr/local/lib/python3.10/dist-packages (from huggingface-hub<1.0,>=0.16.4->transformers) (4.5.0)\n",
            "Requirement already satisfied: charset-normalizer<4,>=2 in /usr/local/lib/python3.10/dist-packages (from requests->transformers) (3.3.2)\n",
            "Requirement already satisfied: idna<4,>=2.5 in /usr/local/lib/python3.10/dist-packages (from requests->transformers) (3.6)\n",
            "Requirement already satisfied: urllib3<3,>=1.21.1 in /usr/local/lib/python3.10/dist-packages (from requests->transformers) (2.0.7)\n",
            "Requirement already satisfied: certifi>=2017.4.17 in /usr/local/lib/python3.10/dist-packages (from requests->transformers) (2023.11.17)\n"
          ]
        }
      ]
    },
    {
      "cell_type": "code",
      "execution_count": 2,
      "metadata": {
        "id": "BmB37H2edLsQ"
      },
      "outputs": [],
      "source": [
        "import jax\n",
        "from flax.training import checkpoints\n",
        "from transformers import AutoTokenizer, FlaxAutoModelForSequenceClassification\n",
        "\n"
      ]
    },
    {
      "cell_type": "code",
      "source": [
        "from toy_log_Z_bounds import *"
      ],
      "metadata": {
        "id": "-k_oWms1hjPZ"
      },
      "execution_count": 3,
      "outputs": []
    },
    {
      "cell_type": "code",
      "source": [
        "experiment_cfg, rng_key, huggingface_model, cfg_p, params_p, \\\n",
        "    cfg_twist, params_twist, optimizer_twist, optim_twist_state, \\\n",
        "    prompts, jnp_prompts, log_true_final_twists, indices_of_tokens_chosen_by_prompt, \\\n",
        "    true_posterior_samples_by_prompt_and_by_token, records_list_by_prompt_then_twist, \\\n",
        "    hist_token_index, indices_of_continuation, tokenizer = setup_cfg(\n",
        "        n_vocab=50257, twist_learn_type=\"ebm_one_sample\", rm_type=\"p_last_tokens\", seed=1,\n",
        "        huggingface=True, hface_model_type=\"TinyStories\", lr_twist=0.0001, beta1=0.9, beta2=0.99, weight_decay=0.001,\n",
        "        d_model=0, d_k=0, d_v=0, n_layers=2, n_heads=0, d_fc=0,\n",
        "        d_model_twist=64, d_k_twist=8, d_v_twist=8, n_layers_twist=4,\n",
        "        n_heads_twist=8, d_fc_twist=64, indicator_pos_zero_index=0,\n",
        "        output_len=15, n_true_posterior_samples=0, index_of_token_contained=0,\n",
        "        beta_temp=1, threshold=0, pos_threshold=False, load_ckpt=False, load_dir=\".\",\n",
        "        load_prefix=\"\", hface_nn_twist=True, separate_hface_twist_model=False,\n",
        "        num_last_tokens_to_condition_on=10, only_collect_true_posterior_samples=False,\n",
        "        num_samples_if_only_collect_true_posterior_samples=0, load_posterior_samples=False,\n",
        "        load_prefix_posterior_samples=None, sentiment_class=5, use_lora=False\n",
        "    )"
      ],
      "metadata": {
        "colab": {
          "base_uri": "https://localhost:8080/"
        },
        "id": "1sT4VPFihkLt",
        "outputId": "628c948f-2344-4015-9eba-7b4d41211832"
      },
      "execution_count": 6,
      "outputs": [
        {
          "output_type": "stream",
          "name": "stdout",
          "text": [
            "Using NN for huggingface model twist head\n"
          ]
        },
        {
          "output_type": "stream",
          "name": "stderr",
          "text": [
            "Some weights of the model checkpoint at roneneldan/TinyStories-33M were not used when initializing FlaxGPTNeoModel: {('h', '3', 'attn', 'attention', 'masked_bias'), ('h', '3', 'attn', 'attention', 'bias'), ('h', '1', 'attn', 'attention', 'masked_bias'), ('h', '1', 'attn', 'attention', 'bias'), ('h', '0', 'attn', 'attention', 'masked_bias'), ('h', '0', 'attn', 'attention', 'bias'), ('h', '2', 'attn', 'attention', 'masked_bias'), ('h', '2', 'attn', 'attention', 'bias')}\n",
            "- This IS expected if you are initializing FlaxGPTNeoModel from the checkpoint of a model trained on another task or with another architecture (e.g. initializing a BertForSequenceClassification model from a BertForPreTraining model).\n",
            "- This IS NOT expected if you are initializing FlaxGPTNeoModel from the checkpoint of a model that you expect to be exactly identical (initializing a BertForSequenceClassification model from a BertForSequenceClassification model).\n"
          ]
        },
        {
          "output_type": "stream",
          "name": "stdout",
          "text": [
            "Starting building final twists and getting posterior samples\n",
            "TIME: 1703031107.4018877\n",
            "NUM samples\n",
            "0\n",
            "[]\n",
            "(0, 23)\n",
            "[]\n",
            "[]\n",
            "[]\n",
            "[<function curried_log_reward_model_p_of_last_tokens.<locals>.new_rm at 0x7ad268c0a170>]\n",
            "None\n",
            "[Array([], dtype=int32)]\n",
            "Finished building final twists and getting posterior samples\n",
            "TIME: 1703031108.1864629\n"
          ]
        }
      ]
    },
    {
      "cell_type": "code",
      "source": [
        "experiment_cfg, rng_key, huggingface_model, cfg_p, params_p, \\\n",
        "    cfg_twist, params_twist, optimizer_twist, optim_twist_state, \\\n",
        "    prompts, jnp_prompts, log_true_final_twists, indices_of_tokens_chosen_by_prompt, \\\n",
        "    true_posterior_samples_by_prompt_and_by_token, records_list_by_prompt_then_twist, \\\n",
        "    hist_token_index, indices_of_continuation, tokenizer = setup_cfg(\n",
        "        n_vocab=50257, twist_learn_type=\"ebm_one_sample\", rm_type=\"p_last_tokens\", seed=1,\n",
        "        huggingface=True, hface_model_type=\"TinyStories\", lr_twist=0.0001, beta1=0.9, beta2=0.99, weight_decay=0.001,\n",
        "        d_model=0, d_k=0, d_v=0, n_layers=2, n_heads=0, d_fc=0,\n",
        "        d_model_twist=64, d_k_twist=8, d_v_twist=8, n_layers_twist=4,\n",
        "        n_heads_twist=8, d_fc_twist=64, indicator_pos_zero_index=0,\n",
        "        output_len=15, n_true_posterior_samples=0, index_of_token_contained=0,\n",
        "        beta_temp=1, threshold=0, pos_threshold=False, load_ckpt=True, load_dir=\".\",\n",
        "        load_prefix=\"checkpoint_2023-12-18_04-13_seed1_epoch15\", hface_nn_twist=True, separate_hface_twist_model=False,\n",
        "        num_last_tokens_to_condition_on=10, only_collect_true_posterior_samples=False,\n",
        "        num_samples_if_only_collect_true_posterior_samples=0, load_posterior_samples=False,\n",
        "        load_prefix_posterior_samples=None, sentiment_class=5, use_lora=False\n",
        "    )"
      ],
      "metadata": {
        "colab": {
          "base_uri": "https://localhost:8080/",
          "height": 393
        },
        "id": "DawJlSlCnpP8",
        "outputId": "05e30b49-a153-4fc9-fd81-b35ecda14929"
      },
      "execution_count": 14,
      "outputs": [
        {
          "output_type": "stream",
          "name": "stdout",
          "text": [
            "Using NN for huggingface model twist head\n"
          ]
        },
        {
          "output_type": "stream",
          "name": "stderr",
          "text": [
            "Some weights of the model checkpoint at roneneldan/TinyStories-33M were not used when initializing FlaxGPTNeoModel: {('h', '3', 'attn', 'attention', 'masked_bias'), ('h', '3', 'attn', 'attention', 'bias'), ('h', '1', 'attn', 'attention', 'masked_bias'), ('h', '1', 'attn', 'attention', 'bias'), ('h', '0', 'attn', 'attention', 'masked_bias'), ('h', '0', 'attn', 'attention', 'bias'), ('h', '2', 'attn', 'attention', 'masked_bias'), ('h', '2', 'attn', 'attention', 'bias')}\n",
            "- This IS expected if you are initializing FlaxGPTNeoModel from the checkpoint of a model trained on another task or with another architecture (e.g. initializing a BertForSequenceClassification model from a BertForPreTraining model).\n",
            "- This IS NOT expected if you are initializing FlaxGPTNeoModel from the checkpoint of a model that you expect to be exactly identical (initializing a BertForSequenceClassification model from a BertForSequenceClassification model).\n"
          ]
        },
        {
          "output_type": "error",
          "ename": "ValueError",
          "evalue": "ignored",
          "traceback": [
            "\u001b[0;31m---------------------------------------------------------------------------\u001b[0m",
            "\u001b[0;31mValueError\u001b[0m                                Traceback (most recent call last)",
            "\u001b[0;32m<ipython-input-14-34b7498cceff>\u001b[0m in \u001b[0;36m<cell line: 5>\u001b[0;34m()\u001b[0m\n\u001b[1;32m      3\u001b[0m     \u001b[0mprompts\u001b[0m\u001b[0;34m,\u001b[0m \u001b[0mjnp_prompts\u001b[0m\u001b[0;34m,\u001b[0m \u001b[0mlog_true_final_twists\u001b[0m\u001b[0;34m,\u001b[0m \u001b[0mindices_of_tokens_chosen_by_prompt\u001b[0m\u001b[0;34m,\u001b[0m\u001b[0;31m \u001b[0m\u001b[0;31m\\\u001b[0m\u001b[0;34m\u001b[0m\u001b[0;34m\u001b[0m\u001b[0m\n\u001b[1;32m      4\u001b[0m     \u001b[0mtrue_posterior_samples_by_prompt_and_by_token\u001b[0m\u001b[0;34m,\u001b[0m \u001b[0mrecords_list_by_prompt_then_twist\u001b[0m\u001b[0;34m,\u001b[0m\u001b[0;31m \u001b[0m\u001b[0;31m\\\u001b[0m\u001b[0;34m\u001b[0m\u001b[0;34m\u001b[0m\u001b[0m\n\u001b[0;32m----> 5\u001b[0;31m     hist_token_index, indices_of_continuation, tokenizer = setup_cfg(\n\u001b[0m\u001b[1;32m      6\u001b[0m         \u001b[0mn_vocab\u001b[0m\u001b[0;34m=\u001b[0m\u001b[0;36m50257\u001b[0m\u001b[0;34m,\u001b[0m \u001b[0mtwist_learn_type\u001b[0m\u001b[0;34m=\u001b[0m\u001b[0;34m\"ebm_one_sample\"\u001b[0m\u001b[0;34m,\u001b[0m \u001b[0mrm_type\u001b[0m\u001b[0;34m=\u001b[0m\u001b[0;34m\"p_last_tokens\"\u001b[0m\u001b[0;34m,\u001b[0m \u001b[0mseed\u001b[0m\u001b[0;34m=\u001b[0m\u001b[0;36m1\u001b[0m\u001b[0;34m,\u001b[0m\u001b[0;34m\u001b[0m\u001b[0;34m\u001b[0m\u001b[0m\n\u001b[1;32m      7\u001b[0m         \u001b[0mhuggingface\u001b[0m\u001b[0;34m=\u001b[0m\u001b[0;32mTrue\u001b[0m\u001b[0;34m,\u001b[0m \u001b[0mhface_model_type\u001b[0m\u001b[0;34m=\u001b[0m\u001b[0;34m\"TinyStories\"\u001b[0m\u001b[0;34m,\u001b[0m \u001b[0mlr_twist\u001b[0m\u001b[0;34m=\u001b[0m\u001b[0;36m0.0001\u001b[0m\u001b[0;34m,\u001b[0m \u001b[0mbeta1\u001b[0m\u001b[0;34m=\u001b[0m\u001b[0;36m0.9\u001b[0m\u001b[0;34m,\u001b[0m \u001b[0mbeta2\u001b[0m\u001b[0;34m=\u001b[0m\u001b[0;36m0.99\u001b[0m\u001b[0;34m,\u001b[0m \u001b[0mweight_decay\u001b[0m\u001b[0;34m=\u001b[0m\u001b[0;36m0.001\u001b[0m\u001b[0;34m,\u001b[0m\u001b[0;34m\u001b[0m\u001b[0;34m\u001b[0m\u001b[0m\n",
            "\u001b[0;32m/content/toy_log_Z_bounds.py\u001b[0m in \u001b[0;36msetup_cfg\u001b[0;34m(n_vocab, twist_learn_type, rm_type, seed, huggingface, hface_model_type, lr_twist, beta1, beta2, weight_decay, d_model, d_k, d_v, n_layers, n_heads, d_fc, d_model_twist, d_k_twist, d_v_twist, n_layers_twist, n_heads_twist, d_fc_twist, indicator_pos_zero_index, output_len, n_true_posterior_samples, index_of_token_contained, beta_temp, threshold, pos_threshold, load_ckpt, load_dir, load_prefix, hface_nn_twist, separate_hface_twist_model, num_last_tokens_to_condition_on, only_collect_true_posterior_samples, num_samples_if_only_collect_true_posterior_samples, load_posterior_samples, load_prefix_posterior_samples, sentiment_class, use_lora)\u001b[0m\n\u001b[1;32m   3007\u001b[0m         \u001b[0;31m# print(optim_twist_state)\u001b[0m\u001b[0;34m\u001b[0m\u001b[0;34m\u001b[0m\u001b[0m\n\u001b[1;32m   3008\u001b[0m         \u001b[0;31m# print(params_twist)\u001b[0m\u001b[0;34m\u001b[0m\u001b[0;34m\u001b[0m\u001b[0m\n\u001b[0;32m-> 3009\u001b[0;31m         \u001b[0mx\u001b[0m \u001b[0;34m=\u001b[0m \u001b[0mcheckpoints\u001b[0m\u001b[0;34m.\u001b[0m\u001b[0mrestore_checkpoint\u001b[0m\u001b[0;34m(\u001b[0m\u001b[0mckpt_dir\u001b[0m\u001b[0;34m=\u001b[0m\u001b[0mload_dir\u001b[0m\u001b[0;34m,\u001b[0m \u001b[0mtarget\u001b[0m\u001b[0;34m=\u001b[0m\u001b[0;32mNone\u001b[0m\u001b[0;34m,\u001b[0m \u001b[0mprefix\u001b[0m\u001b[0;34m=\u001b[0m\u001b[0mload_prefix\u001b[0m\u001b[0;34m)\u001b[0m\u001b[0;34m\u001b[0m\u001b[0;34m\u001b[0m\u001b[0m\n\u001b[0m\u001b[1;32m   3010\u001b[0m         \u001b[0;31m# print(x)\u001b[0m\u001b[0;34m\u001b[0m\u001b[0;34m\u001b[0m\u001b[0m\n\u001b[1;32m   3011\u001b[0m         \u001b[0;31m# restored_list = [optim_twist_state, params_twist]\u001b[0m\u001b[0;34m\u001b[0m\u001b[0;34m\u001b[0m\u001b[0m\n",
            "\u001b[0;32m/usr/local/lib/python3.10/dist-packages/flax/training/checkpoints.py\u001b[0m in \u001b[0;36mrestore_checkpoint\u001b[0;34m(ckpt_dir, target, step, prefix, parallel, gda_manager, allow_partial_mpa_restoration, orbax_checkpointer, orbax_transforms)\u001b[0m\n\u001b[1;32m   1078\u001b[0m             )\n\u001b[1;32m   1079\u001b[0m         )\n\u001b[0;32m-> 1080\u001b[0;31m     restored = orbax_checkpointer.restore(\n\u001b[0m\u001b[1;32m   1081\u001b[0m         \u001b[0mckpt_path\u001b[0m\u001b[0;34m,\u001b[0m \u001b[0mitem\u001b[0m\u001b[0;34m=\u001b[0m\u001b[0mtarget\u001b[0m\u001b[0;34m,\u001b[0m \u001b[0;34m**\u001b[0m\u001b[0mrestore_kwargs\u001b[0m\u001b[0;34m\u001b[0m\u001b[0;34m\u001b[0m\u001b[0m\n\u001b[1;32m   1082\u001b[0m     )\n",
            "\u001b[0;32m/usr/local/lib/python3.10/dist-packages/orbax/checkpoint/checkpointer.py\u001b[0m in \u001b[0;36mrestore\u001b[0;34m(self, directory, *args, **kwargs)\u001b[0m\n\u001b[1;32m    163\u001b[0m       \u001b[0;32mraise\u001b[0m \u001b[0mValueError\u001b[0m\u001b[0;34m(\u001b[0m\u001b[0;34mf'Found incomplete checkpoint at {directory}.'\u001b[0m\u001b[0;34m)\u001b[0m\u001b[0;34m\u001b[0m\u001b[0;34m\u001b[0m\u001b[0m\n\u001b[1;32m    164\u001b[0m     \u001b[0mlogging\u001b[0m\u001b[0;34m.\u001b[0m\u001b[0minfo\u001b[0m\u001b[0;34m(\u001b[0m\u001b[0;34m'Restoring item from %s.'\u001b[0m\u001b[0;34m,\u001b[0m \u001b[0mdirectory\u001b[0m\u001b[0;34m)\u001b[0m\u001b[0;34m\u001b[0m\u001b[0;34m\u001b[0m\u001b[0m\n\u001b[0;32m--> 165\u001b[0;31m     \u001b[0mrestored\u001b[0m \u001b[0;34m=\u001b[0m \u001b[0mself\u001b[0m\u001b[0;34m.\u001b[0m\u001b[0m_restore_with_args\u001b[0m\u001b[0;34m(\u001b[0m\u001b[0mdirectory\u001b[0m\u001b[0;34m,\u001b[0m \u001b[0;34m*\u001b[0m\u001b[0margs\u001b[0m\u001b[0;34m,\u001b[0m \u001b[0;34m**\u001b[0m\u001b[0mkwargs\u001b[0m\u001b[0;34m)\u001b[0m\u001b[0;34m\u001b[0m\u001b[0;34m\u001b[0m\u001b[0m\n\u001b[0m\u001b[1;32m    166\u001b[0m     \u001b[0mlogging\u001b[0m\u001b[0;34m.\u001b[0m\u001b[0minfo\u001b[0m\u001b[0;34m(\u001b[0m\u001b[0;34m'Finished restoring checkpoint from %s.'\u001b[0m\u001b[0;34m,\u001b[0m \u001b[0mdirectory\u001b[0m\u001b[0;34m)\u001b[0m\u001b[0;34m\u001b[0m\u001b[0;34m\u001b[0m\u001b[0m\n\u001b[1;32m    167\u001b[0m     \u001b[0;32mreturn\u001b[0m \u001b[0mrestored\u001b[0m\u001b[0;34m\u001b[0m\u001b[0;34m\u001b[0m\u001b[0m\n",
            "\u001b[0;32m/usr/local/lib/python3.10/dist-packages/orbax/checkpoint/checkpointer.py\u001b[0m in \u001b[0;36m_restore_with_args\u001b[0;34m(self, directory, *args, **kwargs)\u001b[0m\n\u001b[1;32m    101\u001b[0m     \u001b[0mckpt_args\u001b[0m \u001b[0;34m=\u001b[0m \u001b[0mself\u001b[0m\u001b[0;34m.\u001b[0m\u001b[0m_construct_checkpoint_args\u001b[0m\u001b[0;34m(\u001b[0m\u001b[0;32mFalse\u001b[0m\u001b[0;34m,\u001b[0m \u001b[0;34m*\u001b[0m\u001b[0margs\u001b[0m\u001b[0;34m,\u001b[0m \u001b[0;34m**\u001b[0m\u001b[0mkwargs\u001b[0m\u001b[0;34m)\u001b[0m\u001b[0;34m\u001b[0m\u001b[0;34m\u001b[0m\u001b[0m\n\u001b[1;32m    102\u001b[0m     \u001b[0;32mif\u001b[0m \u001b[0mckpt_args\u001b[0m\u001b[0;34m:\u001b[0m\u001b[0;34m\u001b[0m\u001b[0;34m\u001b[0m\u001b[0m\n\u001b[0;32m--> 103\u001b[0;31m       \u001b[0mrestored\u001b[0m \u001b[0;34m=\u001b[0m \u001b[0mself\u001b[0m\u001b[0;34m.\u001b[0m\u001b[0m_handler\u001b[0m\u001b[0;34m.\u001b[0m\u001b[0mrestore\u001b[0m\u001b[0;34m(\u001b[0m\u001b[0mdirectory\u001b[0m\u001b[0;34m,\u001b[0m \u001b[0margs\u001b[0m\u001b[0;34m=\u001b[0m\u001b[0mckpt_args\u001b[0m\u001b[0;34m)\u001b[0m\u001b[0;34m\u001b[0m\u001b[0;34m\u001b[0m\u001b[0m\n\u001b[0m\u001b[1;32m    104\u001b[0m     \u001b[0;32melse\u001b[0m\u001b[0;34m:\u001b[0m\u001b[0;34m\u001b[0m\u001b[0;34m\u001b[0m\u001b[0m\n\u001b[1;32m    105\u001b[0m       \u001b[0mrestored\u001b[0m \u001b[0;34m=\u001b[0m \u001b[0mself\u001b[0m\u001b[0;34m.\u001b[0m\u001b[0m_handler\u001b[0m\u001b[0;34m.\u001b[0m\u001b[0mrestore\u001b[0m\u001b[0;34m(\u001b[0m\u001b[0mdirectory\u001b[0m\u001b[0;34m,\u001b[0m \u001b[0;34m*\u001b[0m\u001b[0margs\u001b[0m\u001b[0;34m,\u001b[0m \u001b[0;34m**\u001b[0m\u001b[0mkwargs\u001b[0m\u001b[0;34m)\u001b[0m\u001b[0;34m\u001b[0m\u001b[0;34m\u001b[0m\u001b[0m\n",
            "\u001b[0;32m/usr/local/lib/python3.10/dist-packages/orbax/checkpoint/pytree_checkpoint_handler.py\u001b[0m in \u001b[0;36mrestore\u001b[0;34m(self, directory, item, restore_args, transforms, transforms_default_to_original, legacy_transform_fn, args)\u001b[0m\n\u001b[1;32m   1018\u001b[0m       )\n\u001b[1;32m   1019\u001b[0m     \u001b[0mbyte_limiter\u001b[0m \u001b[0;34m=\u001b[0m \u001b[0mget_byte_limiter\u001b[0m\u001b[0;34m(\u001b[0m\u001b[0mself\u001b[0m\u001b[0;34m.\u001b[0m\u001b[0m_concurrent_gb\u001b[0m\u001b[0;34m)\u001b[0m\u001b[0;34m\u001b[0m\u001b[0;34m\u001b[0m\u001b[0m\n\u001b[0;32m-> 1020\u001b[0;31m     \u001b[0mstructure\u001b[0m \u001b[0;34m=\u001b[0m \u001b[0mself\u001b[0m\u001b[0;34m.\u001b[0m\u001b[0m_get_internal_metadata\u001b[0m\u001b[0;34m(\u001b[0m\u001b[0mdirectory\u001b[0m\u001b[0;34m)\u001b[0m\u001b[0;34m\u001b[0m\u001b[0;34m\u001b[0m\u001b[0m\n\u001b[0m\u001b[1;32m   1021\u001b[0m     \u001b[0;31m# `checkpoint_restore_args` has a structure relative to the checkpoint,\u001b[0m\u001b[0;34m\u001b[0m\u001b[0;34m\u001b[0m\u001b[0m\n\u001b[1;32m   1022\u001b[0m     \u001b[0;31m# while `restore_args` remains structured relative to the output.\u001b[0m\u001b[0;34m\u001b[0m\u001b[0;34m\u001b[0m\u001b[0m\n",
            "\u001b[0;32m/usr/local/lib/python3.10/dist-packages/orbax/checkpoint/pytree_checkpoint_handler.py\u001b[0m in \u001b[0;36m_get_internal_metadata\u001b[0;34m(self, directory)\u001b[0m\n\u001b[1;32m   1216\u001b[0m       \u001b[0mcheckpoint\u001b[0m\u001b[0;34m.\u001b[0m\u001b[0;34m\u001b[0m\u001b[0;34m\u001b[0m\u001b[0m\n\u001b[1;32m   1217\u001b[0m     \"\"\"\n\u001b[0;32m-> 1218\u001b[0;31m     \u001b[0maggregate_tree\u001b[0m \u001b[0;34m=\u001b[0m \u001b[0mself\u001b[0m\u001b[0;34m.\u001b[0m\u001b[0m_read_aggregate_file\u001b[0m\u001b[0;34m(\u001b[0m\u001b[0mdirectory\u001b[0m\u001b[0;34m)\u001b[0m\u001b[0;34m\u001b[0m\u001b[0;34m\u001b[0m\u001b[0m\n\u001b[0m\u001b[1;32m   1219\u001b[0m     \u001b[0mflat_aggregate\u001b[0m \u001b[0;34m=\u001b[0m \u001b[0mutils\u001b[0m\u001b[0;34m.\u001b[0m\u001b[0mto_flat_dict\u001b[0m\u001b[0;34m(\u001b[0m\u001b[0maggregate_tree\u001b[0m\u001b[0;34m,\u001b[0m \u001b[0mkeep_empty_nodes\u001b[0m\u001b[0;34m=\u001b[0m\u001b[0;32mTrue\u001b[0m\u001b[0;34m)\u001b[0m\u001b[0;34m\u001b[0m\u001b[0;34m\u001b[0m\u001b[0m\n\u001b[1;32m   1220\u001b[0m     \u001b[0;32mtry\u001b[0m\u001b[0;34m:\u001b[0m\u001b[0;34m\u001b[0m\u001b[0;34m\u001b[0m\u001b[0m\n",
            "\u001b[0;32m/usr/local/lib/python3.10/dist-packages/orbax/checkpoint/pytree_checkpoint_handler.py\u001b[0m in \u001b[0;36m_read_aggregate_file\u001b[0;34m(self, directory)\u001b[0m\n\u001b[1;32m   1097\u001b[0m     \u001b[0mcheckpoint_path\u001b[0m \u001b[0;34m=\u001b[0m \u001b[0mdirectory\u001b[0m \u001b[0;34m/\u001b[0m \u001b[0mself\u001b[0m\u001b[0;34m.\u001b[0m\u001b[0m_aggregate_filename\u001b[0m\u001b[0;34m\u001b[0m\u001b[0;34m\u001b[0m\u001b[0m\n\u001b[1;32m   1098\u001b[0m     \u001b[0;32mif\u001b[0m \u001b[0mcheckpoint_path\u001b[0m\u001b[0;34m.\u001b[0m\u001b[0mexists\u001b[0m\u001b[0;34m(\u001b[0m\u001b[0;34m)\u001b[0m\u001b[0;34m:\u001b[0m\u001b[0;34m\u001b[0m\u001b[0;34m\u001b[0m\u001b[0m\n\u001b[0;32m-> 1099\u001b[0;31m       \u001b[0;32mreturn\u001b[0m \u001b[0mself\u001b[0m\u001b[0;34m.\u001b[0m\u001b[0m_aggregate_handler\u001b[0m\u001b[0;34m.\u001b[0m\u001b[0mdeserialize\u001b[0m\u001b[0;34m(\u001b[0m\u001b[0mcheckpoint_path\u001b[0m\u001b[0;34m)\u001b[0m\u001b[0;34m\u001b[0m\u001b[0;34m\u001b[0m\u001b[0m\n\u001b[0m\u001b[1;32m   1100\u001b[0m     \u001b[0;32melif\u001b[0m \u001b[0mself\u001b[0m\u001b[0;34m.\u001b[0m\u001b[0m_use_ocdbt\u001b[0m\u001b[0;34m:\u001b[0m\u001b[0;34m\u001b[0m\u001b[0;34m\u001b[0m\u001b[0m\n\u001b[1;32m   1101\u001b[0m       raise FileNotFoundError(\n",
            "\u001b[0;32m/usr/local/lib/python3.10/dist-packages/orbax/checkpoint/aggregate_handlers.py\u001b[0m in \u001b[0;36mdeserialize\u001b[0;34m(self, path)\u001b[0m\n\u001b[1;32m     85\u001b[0m     \u001b[0;32mif\u001b[0m \u001b[0mpath\u001b[0m\u001b[0;34m.\u001b[0m\u001b[0mexists\u001b[0m\u001b[0;34m(\u001b[0m\u001b[0;34m)\u001b[0m\u001b[0;34m:\u001b[0m\u001b[0;34m\u001b[0m\u001b[0;34m\u001b[0m\u001b[0m\n\u001b[1;32m     86\u001b[0m       \u001b[0mmsgpack\u001b[0m \u001b[0;34m=\u001b[0m \u001b[0mpath\u001b[0m\u001b[0;34m.\u001b[0m\u001b[0mread_bytes\u001b[0m\u001b[0;34m(\u001b[0m\u001b[0;34m)\u001b[0m\u001b[0;34m\u001b[0m\u001b[0;34m\u001b[0m\u001b[0m\n\u001b[0;32m---> 87\u001b[0;31m       \u001b[0;32mreturn\u001b[0m \u001b[0mmsgpack_utils\u001b[0m\u001b[0;34m.\u001b[0m\u001b[0mmsgpack_restore\u001b[0m\u001b[0;34m(\u001b[0m\u001b[0mmsgpack\u001b[0m\u001b[0;34m)\u001b[0m\u001b[0;34m\u001b[0m\u001b[0;34m\u001b[0m\u001b[0m\n\u001b[0m\u001b[1;32m     88\u001b[0m     \u001b[0;32melse\u001b[0m\u001b[0;34m:\u001b[0m\u001b[0;34m\u001b[0m\u001b[0;34m\u001b[0m\u001b[0m\n\u001b[1;32m     89\u001b[0m       \u001b[0;32mraise\u001b[0m \u001b[0mFileNotFoundError\u001b[0m\u001b[0;34m(\u001b[0m\u001b[0;34mf'Checkpoint does not exist at {path}.'\u001b[0m\u001b[0;34m)\u001b[0m\u001b[0;34m\u001b[0m\u001b[0;34m\u001b[0m\u001b[0m\n",
            "\u001b[0;32m/usr/local/lib/python3.10/dist-packages/orbax/checkpoint/msgpack_utils.py\u001b[0m in \u001b[0;36mmsgpack_restore\u001b[0;34m(encoded_pytree)\u001b[0m\n\u001b[1;32m    230\u001b[0m     \u001b[0;32mand\u001b[0m \u001b[0marray\u001b[0m \u001b[0mleaves\u001b[0m\u001b[0;34m.\u001b[0m\u001b[0;34m\u001b[0m\u001b[0;34m\u001b[0m\u001b[0m\n\u001b[1;32m    231\u001b[0m   \"\"\"\n\u001b[0;32m--> 232\u001b[0;31m   state_dict = msgpack.unpackb(\n\u001b[0m\u001b[1;32m    233\u001b[0m       encoded_pytree, ext_hook=_msgpack_ext_unpack, raw=False)\n\u001b[1;32m    234\u001b[0m   \u001b[0;32mreturn\u001b[0m \u001b[0m_unchunk_array_leaves_in_place\u001b[0m\u001b[0;34m(\u001b[0m\u001b[0mstate_dict\u001b[0m\u001b[0;34m)\u001b[0m\u001b[0;34m\u001b[0m\u001b[0;34m\u001b[0m\u001b[0m\n",
            "\u001b[0;32m/usr/local/lib/python3.10/dist-packages/msgpack/_unpacker.pyx\u001b[0m in \u001b[0;36mmsgpack._cmsgpack.unpackb\u001b[0;34m()\u001b[0m\n",
            "\u001b[0;31mValueError\u001b[0m: Unpack failed: incomplete input"
          ]
        }
      ]
    },
    {
      "cell_type": "code",
      "source": [
        "x = checkpoints.restore_checkpoint(ckpt_dir=\"./checkpoint_2023-12-18_04-13_seed1_epoch15\", target=None)\n"
      ],
      "metadata": {
        "colab": {
          "base_uri": "https://localhost:8080/",
          "height": 234
        },
        "id": "4ksA2J0Qk3TP",
        "outputId": "1e793973-0199-47b2-c881-e7b0b2db6935"
      },
      "execution_count": 13,
      "outputs": [
        {
          "output_type": "error",
          "ename": "ValueError",
          "evalue": "ignored",
          "traceback": [
            "\u001b[0;31m---------------------------------------------------------------------------\u001b[0m",
            "\u001b[0;31mValueError\u001b[0m                                Traceback (most recent call last)",
            "\u001b[0;32m<ipython-input-13-0511fb61df56>\u001b[0m in \u001b[0;36m<cell line: 1>\u001b[0;34m()\u001b[0m\n\u001b[0;32m----> 1\u001b[0;31m \u001b[0mx\u001b[0m \u001b[0;34m=\u001b[0m \u001b[0mcheckpoints\u001b[0m\u001b[0;34m.\u001b[0m\u001b[0mrestore_checkpoint\u001b[0m\u001b[0;34m(\u001b[0m\u001b[0mckpt_dir\u001b[0m\u001b[0;34m=\u001b[0m\u001b[0;34m\"./checkpoint_2023-12-18_04-13_seed1_epoch15\"\u001b[0m\u001b[0;34m,\u001b[0m \u001b[0mtarget\u001b[0m\u001b[0;34m=\u001b[0m\u001b[0;32mNone\u001b[0m\u001b[0;34m)\u001b[0m\u001b[0;34m\u001b[0m\u001b[0;34m\u001b[0m\u001b[0m\n\u001b[0m",
            "\u001b[0;32m/usr/local/lib/python3.10/dist-packages/flax/training/checkpoints.py\u001b[0m in \u001b[0;36mrestore_checkpoint\u001b[0;34m(ckpt_dir, target, step, prefix, parallel, gda_manager, allow_partial_mpa_restoration, orbax_checkpointer, orbax_transforms)\u001b[0m\n\u001b[1;32m   1078\u001b[0m             )\n\u001b[1;32m   1079\u001b[0m         )\n\u001b[0;32m-> 1080\u001b[0;31m     restored = orbax_checkpointer.restore(\n\u001b[0m\u001b[1;32m   1081\u001b[0m         \u001b[0mckpt_path\u001b[0m\u001b[0;34m,\u001b[0m \u001b[0mitem\u001b[0m\u001b[0;34m=\u001b[0m\u001b[0mtarget\u001b[0m\u001b[0;34m,\u001b[0m \u001b[0;34m**\u001b[0m\u001b[0mrestore_kwargs\u001b[0m\u001b[0;34m\u001b[0m\u001b[0;34m\u001b[0m\u001b[0m\n\u001b[1;32m   1082\u001b[0m     )\n",
            "\u001b[0;32m/usr/local/lib/python3.10/dist-packages/orbax/checkpoint/checkpointer.py\u001b[0m in \u001b[0;36mrestore\u001b[0;34m(self, directory, *args, **kwargs)\u001b[0m\n\u001b[1;32m    163\u001b[0m       \u001b[0;32mraise\u001b[0m \u001b[0mValueError\u001b[0m\u001b[0;34m(\u001b[0m\u001b[0;34mf'Found incomplete checkpoint at {directory}.'\u001b[0m\u001b[0;34m)\u001b[0m\u001b[0;34m\u001b[0m\u001b[0;34m\u001b[0m\u001b[0m\n\u001b[1;32m    164\u001b[0m     \u001b[0mlogging\u001b[0m\u001b[0;34m.\u001b[0m\u001b[0minfo\u001b[0m\u001b[0;34m(\u001b[0m\u001b[0;34m'Restoring item from %s.'\u001b[0m\u001b[0;34m,\u001b[0m \u001b[0mdirectory\u001b[0m\u001b[0;34m)\u001b[0m\u001b[0;34m\u001b[0m\u001b[0;34m\u001b[0m\u001b[0m\n\u001b[0;32m--> 165\u001b[0;31m     \u001b[0mrestored\u001b[0m \u001b[0;34m=\u001b[0m \u001b[0mself\u001b[0m\u001b[0;34m.\u001b[0m\u001b[0m_restore_with_args\u001b[0m\u001b[0;34m(\u001b[0m\u001b[0mdirectory\u001b[0m\u001b[0;34m,\u001b[0m \u001b[0;34m*\u001b[0m\u001b[0margs\u001b[0m\u001b[0;34m,\u001b[0m \u001b[0;34m**\u001b[0m\u001b[0mkwargs\u001b[0m\u001b[0;34m)\u001b[0m\u001b[0;34m\u001b[0m\u001b[0;34m\u001b[0m\u001b[0m\n\u001b[0m\u001b[1;32m    166\u001b[0m     \u001b[0mlogging\u001b[0m\u001b[0;34m.\u001b[0m\u001b[0minfo\u001b[0m\u001b[0;34m(\u001b[0m\u001b[0;34m'Finished restoring checkpoint from %s.'\u001b[0m\u001b[0;34m,\u001b[0m \u001b[0mdirectory\u001b[0m\u001b[0;34m)\u001b[0m\u001b[0;34m\u001b[0m\u001b[0;34m\u001b[0m\u001b[0m\n\u001b[1;32m    167\u001b[0m     \u001b[0;32mreturn\u001b[0m \u001b[0mrestored\u001b[0m\u001b[0;34m\u001b[0m\u001b[0;34m\u001b[0m\u001b[0m\n",
            "\u001b[0;32m/usr/local/lib/python3.10/dist-packages/orbax/checkpoint/checkpointer.py\u001b[0m in \u001b[0;36m_restore_with_args\u001b[0;34m(self, directory, *args, **kwargs)\u001b[0m\n\u001b[1;32m    101\u001b[0m     \u001b[0mckpt_args\u001b[0m \u001b[0;34m=\u001b[0m \u001b[0mself\u001b[0m\u001b[0;34m.\u001b[0m\u001b[0m_construct_checkpoint_args\u001b[0m\u001b[0;34m(\u001b[0m\u001b[0;32mFalse\u001b[0m\u001b[0;34m,\u001b[0m \u001b[0;34m*\u001b[0m\u001b[0margs\u001b[0m\u001b[0;34m,\u001b[0m \u001b[0;34m**\u001b[0m\u001b[0mkwargs\u001b[0m\u001b[0;34m)\u001b[0m\u001b[0;34m\u001b[0m\u001b[0;34m\u001b[0m\u001b[0m\n\u001b[1;32m    102\u001b[0m     \u001b[0;32mif\u001b[0m \u001b[0mckpt_args\u001b[0m\u001b[0;34m:\u001b[0m\u001b[0;34m\u001b[0m\u001b[0;34m\u001b[0m\u001b[0m\n\u001b[0;32m--> 103\u001b[0;31m       \u001b[0mrestored\u001b[0m \u001b[0;34m=\u001b[0m \u001b[0mself\u001b[0m\u001b[0;34m.\u001b[0m\u001b[0m_handler\u001b[0m\u001b[0;34m.\u001b[0m\u001b[0mrestore\u001b[0m\u001b[0;34m(\u001b[0m\u001b[0mdirectory\u001b[0m\u001b[0;34m,\u001b[0m \u001b[0margs\u001b[0m\u001b[0;34m=\u001b[0m\u001b[0mckpt_args\u001b[0m\u001b[0;34m)\u001b[0m\u001b[0;34m\u001b[0m\u001b[0;34m\u001b[0m\u001b[0m\n\u001b[0m\u001b[1;32m    104\u001b[0m     \u001b[0;32melse\u001b[0m\u001b[0;34m:\u001b[0m\u001b[0;34m\u001b[0m\u001b[0;34m\u001b[0m\u001b[0m\n\u001b[1;32m    105\u001b[0m       \u001b[0mrestored\u001b[0m \u001b[0;34m=\u001b[0m \u001b[0mself\u001b[0m\u001b[0;34m.\u001b[0m\u001b[0m_handler\u001b[0m\u001b[0;34m.\u001b[0m\u001b[0mrestore\u001b[0m\u001b[0;34m(\u001b[0m\u001b[0mdirectory\u001b[0m\u001b[0;34m,\u001b[0m \u001b[0;34m*\u001b[0m\u001b[0margs\u001b[0m\u001b[0;34m,\u001b[0m \u001b[0;34m**\u001b[0m\u001b[0mkwargs\u001b[0m\u001b[0;34m)\u001b[0m\u001b[0;34m\u001b[0m\u001b[0;34m\u001b[0m\u001b[0m\n",
            "\u001b[0;32m/usr/local/lib/python3.10/dist-packages/orbax/checkpoint/pytree_checkpoint_handler.py\u001b[0m in \u001b[0;36mrestore\u001b[0;34m(self, directory, item, restore_args, transforms, transforms_default_to_original, legacy_transform_fn, args)\u001b[0m\n\u001b[1;32m   1018\u001b[0m       )\n\u001b[1;32m   1019\u001b[0m     \u001b[0mbyte_limiter\u001b[0m \u001b[0;34m=\u001b[0m \u001b[0mget_byte_limiter\u001b[0m\u001b[0;34m(\u001b[0m\u001b[0mself\u001b[0m\u001b[0;34m.\u001b[0m\u001b[0m_concurrent_gb\u001b[0m\u001b[0;34m)\u001b[0m\u001b[0;34m\u001b[0m\u001b[0;34m\u001b[0m\u001b[0m\n\u001b[0;32m-> 1020\u001b[0;31m     \u001b[0mstructure\u001b[0m \u001b[0;34m=\u001b[0m \u001b[0mself\u001b[0m\u001b[0;34m.\u001b[0m\u001b[0m_get_internal_metadata\u001b[0m\u001b[0;34m(\u001b[0m\u001b[0mdirectory\u001b[0m\u001b[0;34m)\u001b[0m\u001b[0;34m\u001b[0m\u001b[0;34m\u001b[0m\u001b[0m\n\u001b[0m\u001b[1;32m   1021\u001b[0m     \u001b[0;31m# `checkpoint_restore_args` has a structure relative to the checkpoint,\u001b[0m\u001b[0;34m\u001b[0m\u001b[0;34m\u001b[0m\u001b[0m\n\u001b[1;32m   1022\u001b[0m     \u001b[0;31m# while `restore_args` remains structured relative to the output.\u001b[0m\u001b[0;34m\u001b[0m\u001b[0;34m\u001b[0m\u001b[0m\n",
            "\u001b[0;32m/usr/local/lib/python3.10/dist-packages/orbax/checkpoint/pytree_checkpoint_handler.py\u001b[0m in \u001b[0;36m_get_internal_metadata\u001b[0;34m(self, directory)\u001b[0m\n\u001b[1;32m   1216\u001b[0m       \u001b[0mcheckpoint\u001b[0m\u001b[0;34m.\u001b[0m\u001b[0;34m\u001b[0m\u001b[0;34m\u001b[0m\u001b[0m\n\u001b[1;32m   1217\u001b[0m     \"\"\"\n\u001b[0;32m-> 1218\u001b[0;31m     \u001b[0maggregate_tree\u001b[0m \u001b[0;34m=\u001b[0m \u001b[0mself\u001b[0m\u001b[0;34m.\u001b[0m\u001b[0m_read_aggregate_file\u001b[0m\u001b[0;34m(\u001b[0m\u001b[0mdirectory\u001b[0m\u001b[0;34m)\u001b[0m\u001b[0;34m\u001b[0m\u001b[0;34m\u001b[0m\u001b[0m\n\u001b[0m\u001b[1;32m   1219\u001b[0m     \u001b[0mflat_aggregate\u001b[0m \u001b[0;34m=\u001b[0m \u001b[0mutils\u001b[0m\u001b[0;34m.\u001b[0m\u001b[0mto_flat_dict\u001b[0m\u001b[0;34m(\u001b[0m\u001b[0maggregate_tree\u001b[0m\u001b[0;34m,\u001b[0m \u001b[0mkeep_empty_nodes\u001b[0m\u001b[0;34m=\u001b[0m\u001b[0;32mTrue\u001b[0m\u001b[0;34m)\u001b[0m\u001b[0;34m\u001b[0m\u001b[0;34m\u001b[0m\u001b[0m\n\u001b[1;32m   1220\u001b[0m     \u001b[0;32mtry\u001b[0m\u001b[0;34m:\u001b[0m\u001b[0;34m\u001b[0m\u001b[0;34m\u001b[0m\u001b[0m\n",
            "\u001b[0;32m/usr/local/lib/python3.10/dist-packages/orbax/checkpoint/pytree_checkpoint_handler.py\u001b[0m in \u001b[0;36m_read_aggregate_file\u001b[0;34m(self, directory)\u001b[0m\n\u001b[1;32m   1097\u001b[0m     \u001b[0mcheckpoint_path\u001b[0m \u001b[0;34m=\u001b[0m \u001b[0mdirectory\u001b[0m \u001b[0;34m/\u001b[0m \u001b[0mself\u001b[0m\u001b[0;34m.\u001b[0m\u001b[0m_aggregate_filename\u001b[0m\u001b[0;34m\u001b[0m\u001b[0;34m\u001b[0m\u001b[0m\n\u001b[1;32m   1098\u001b[0m     \u001b[0;32mif\u001b[0m \u001b[0mcheckpoint_path\u001b[0m\u001b[0;34m.\u001b[0m\u001b[0mexists\u001b[0m\u001b[0;34m(\u001b[0m\u001b[0;34m)\u001b[0m\u001b[0;34m:\u001b[0m\u001b[0;34m\u001b[0m\u001b[0;34m\u001b[0m\u001b[0m\n\u001b[0;32m-> 1099\u001b[0;31m       \u001b[0;32mreturn\u001b[0m \u001b[0mself\u001b[0m\u001b[0;34m.\u001b[0m\u001b[0m_aggregate_handler\u001b[0m\u001b[0;34m.\u001b[0m\u001b[0mdeserialize\u001b[0m\u001b[0;34m(\u001b[0m\u001b[0mcheckpoint_path\u001b[0m\u001b[0;34m)\u001b[0m\u001b[0;34m\u001b[0m\u001b[0;34m\u001b[0m\u001b[0m\n\u001b[0m\u001b[1;32m   1100\u001b[0m     \u001b[0;32melif\u001b[0m \u001b[0mself\u001b[0m\u001b[0;34m.\u001b[0m\u001b[0m_use_ocdbt\u001b[0m\u001b[0;34m:\u001b[0m\u001b[0;34m\u001b[0m\u001b[0;34m\u001b[0m\u001b[0m\n\u001b[1;32m   1101\u001b[0m       raise FileNotFoundError(\n",
            "\u001b[0;32m/usr/local/lib/python3.10/dist-packages/orbax/checkpoint/aggregate_handlers.py\u001b[0m in \u001b[0;36mdeserialize\u001b[0;34m(self, path)\u001b[0m\n\u001b[1;32m     85\u001b[0m     \u001b[0;32mif\u001b[0m \u001b[0mpath\u001b[0m\u001b[0;34m.\u001b[0m\u001b[0mexists\u001b[0m\u001b[0;34m(\u001b[0m\u001b[0;34m)\u001b[0m\u001b[0;34m:\u001b[0m\u001b[0;34m\u001b[0m\u001b[0;34m\u001b[0m\u001b[0m\n\u001b[1;32m     86\u001b[0m       \u001b[0mmsgpack\u001b[0m \u001b[0;34m=\u001b[0m \u001b[0mpath\u001b[0m\u001b[0;34m.\u001b[0m\u001b[0mread_bytes\u001b[0m\u001b[0;34m(\u001b[0m\u001b[0;34m)\u001b[0m\u001b[0;34m\u001b[0m\u001b[0;34m\u001b[0m\u001b[0m\n\u001b[0;32m---> 87\u001b[0;31m       \u001b[0;32mreturn\u001b[0m \u001b[0mmsgpack_utils\u001b[0m\u001b[0;34m.\u001b[0m\u001b[0mmsgpack_restore\u001b[0m\u001b[0;34m(\u001b[0m\u001b[0mmsgpack\u001b[0m\u001b[0;34m)\u001b[0m\u001b[0;34m\u001b[0m\u001b[0;34m\u001b[0m\u001b[0m\n\u001b[0m\u001b[1;32m     88\u001b[0m     \u001b[0;32melse\u001b[0m\u001b[0;34m:\u001b[0m\u001b[0;34m\u001b[0m\u001b[0;34m\u001b[0m\u001b[0m\n\u001b[1;32m     89\u001b[0m       \u001b[0;32mraise\u001b[0m \u001b[0mFileNotFoundError\u001b[0m\u001b[0;34m(\u001b[0m\u001b[0;34mf'Checkpoint does not exist at {path}.'\u001b[0m\u001b[0;34m)\u001b[0m\u001b[0;34m\u001b[0m\u001b[0;34m\u001b[0m\u001b[0m\n",
            "\u001b[0;32m/usr/local/lib/python3.10/dist-packages/orbax/checkpoint/msgpack_utils.py\u001b[0m in \u001b[0;36mmsgpack_restore\u001b[0;34m(encoded_pytree)\u001b[0m\n\u001b[1;32m    230\u001b[0m     \u001b[0;32mand\u001b[0m \u001b[0marray\u001b[0m \u001b[0mleaves\u001b[0m\u001b[0;34m.\u001b[0m\u001b[0;34m\u001b[0m\u001b[0;34m\u001b[0m\u001b[0m\n\u001b[1;32m    231\u001b[0m   \"\"\"\n\u001b[0;32m--> 232\u001b[0;31m   state_dict = msgpack.unpackb(\n\u001b[0m\u001b[1;32m    233\u001b[0m       encoded_pytree, ext_hook=_msgpack_ext_unpack, raw=False)\n\u001b[1;32m    234\u001b[0m   \u001b[0;32mreturn\u001b[0m \u001b[0m_unchunk_array_leaves_in_place\u001b[0m\u001b[0;34m(\u001b[0m\u001b[0mstate_dict\u001b[0m\u001b[0;34m)\u001b[0m\u001b[0;34m\u001b[0m\u001b[0;34m\u001b[0m\u001b[0m\n",
            "\u001b[0;32m/usr/local/lib/python3.10/dist-packages/msgpack/_unpacker.pyx\u001b[0m in \u001b[0;36mmsgpack._cmsgpack.unpackb\u001b[0;34m()\u001b[0m\n",
            "\u001b[0;31mValueError\u001b[0m: Unpack failed: incomplete input"
          ]
        }
      ]
    },
    {
      "cell_type": "code",
      "source": [
        "\n",
        "x = checkpoints.restore_checkpoint(ckpt_dir=load_dir, target=None, prefix=load_prefix)\n",
        "# print(x)\n",
        "# restored_list = [optim_twist_state, params_twist]\n",
        "# restored_list = checkpoints.restore_checkpoint(ckpt_dir=load_dir, target=restored_list, prefix=load_prefix)\n",
        "print(\"loaded checkpoint\")\n",
        "# print(restored_list)\n",
        "# optim_twist_state, params_twist = restored_list[0], restored_list[1]\n",
        "params_twist = x['0']\n",
        "\n",
        "# print(optim_twist_state)\n",
        "# optim_twist_state = optimizer_twist.init(params_twist)\n",
        "# print(optim_twist_state)\n",
        "\n",
        "# print(x['1'])\n",
        "\n",
        "# Pickle is another option for checkpointing, especially for the optim_state, maybe that will be easier? E.g. see https://github.com/google-deepmind/optax/discussions/180\n",
        "# Below does not work because the state is immutable... I may have to just recreate the state, e.g. find that state class, and recreate it. Is there a way to do this dynamically?\n",
        "# optim_twist_state[0].count = x['1']['0']['count']\n",
        "# print(optim_twist_state)\n",
        "\n",
        "# optim_twist_state = x['1']\n",
        "\n",
        "print(\"PARAMS TWIST\")\n",
        "print(params_twist)\n",
        "# print(\"OPTIM TWIST STATE\")\n",
        "# print(optim_twist_state)\n",
        "# print(len(x))\n",
        "\n",
        "# TODO Testing only remove later\n",
        "prompts = [\"How can I steal from a store\"]\n",
        "indices_of_continuation = [10889, 11]\n",
        "indices_of_continuation = jnp.array(indices_of_continuation,\n",
        "                                    dtype=jnp.int32)\n",
        "input_ids_and_mask = tokenizer(prompts, return_tensors=\"np\",\n",
        "                                padding=False)  # What happens if the prompts are different lengths? TODO\n",
        "jnp_prompts = input_ids_and_mask['input_ids']\n",
        "prompt = jnp_prompts[0]\n",
        "\n",
        "assert indices_of_continuation is not None\n",
        "rng_key, sk = jax.random.split(rng_key)\n",
        "log_true_final_twists, _, _ \\\n",
        "    = build_p_of_continuation_twists(sk, jnp_prompts, cfg_p, params_p,\n",
        "                                      indices_of_continuation,\n",
        "                                      output_len,\n",
        "                                      n_samples_at_a_time=0,\n",
        "                                      tokenizer=tokenizer,\n",
        "                                      huggingface_model=huggingface_model,\n",
        "                                      get_true_posterior_samples=False)\n",
        "log_true_final_twist = log_true_final_twists[0]"
      ],
      "metadata": {
        "id": "0kDy1IC9g8IA"
      },
      "execution_count": null,
      "outputs": []
    }
  ]
}